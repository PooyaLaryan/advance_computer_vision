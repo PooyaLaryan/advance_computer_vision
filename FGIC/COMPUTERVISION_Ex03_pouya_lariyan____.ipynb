{
 "cells": [
  {
   "cell_type": "code",
   "execution_count": 26,
   "id": "97e522b2",
   "metadata": {},
   "outputs": [],
   "source": [
    "import torch\n",
    "import matplotlib.pyplot as plt\n",
    "import torchvision.transforms as transforms"
   ]
  },
  {
   "cell_type": "code",
   "execution_count": 61,
   "id": "10d674a9",
   "metadata": {},
   "outputs": [
    {
     "name": "stdout",
     "output_type": "stream",
     "text": [
      "<class 'torch.Tensor'> torch.Size([8855, 3, 64, 64])\n",
      "dict_keys(['img_ids', 'img_id_to_class_id', 'class_id_to_class_name', 'class_name_to_class_id', 'train_val_class_ids', 'test_class_ids', 'train_val_img_ids', 'test_img_ids', 'word_freq', 'word_id_to_word', 'word_to_word_id', 'img_id_to_encoded_caps', 'num_imgs', 'num_classes', 'num_captions_per_image', 'num_words'])\n",
      "[(28488, 35), (28650, 35), (28740, 35), (28751, 35), (28312, 35), (28466, 35), (28332, 35), (28411, 35), (28441, 35), (28741, 35)]\n",
      "[(1, 'Laysan_Albatross'), (2, 'Sooty_Albatross'), (4, 'Crested_Auklet'), (6, 'Parakeet_Auklet'), (9, 'Red_winged_Blackbird'), (10, 'Rusty_Blackbird'), (11, 'Yellow_headed_Blackbird'), (12, 'Bobolink'), (14, 'Lazuli_Bunting'), (15, 'Painted_Bunting')]\n"
     ]
    }
   ],
   "source": [
    "data_images = torch.load('dataset/imgs_train_val_64x64.pth')  # یا imgs_test_128x128.pth\n",
    "#data_labels = torch.load('dataset/metadata.pth', weights_only=False)  # یا imgs_test_128x128.pth\n",
    "\n",
    "with torch.serialization.safe_globals([frozenset]):\n",
    "    data_labels = torch.load(\"dataset/metadata.pth\", weights_only=True)\n",
    "\n",
    "print(type(data_images), data_images.shape) \n",
    "print(data_labels.keys())\n",
    "print(list(data_labels['img_id_to_class_id'].items())[:10])\n",
    "print(list(data_labels['class_id_to_class_name'].items())[:10])"
   ]
  },
  {
   "cell_type": "code",
   "execution_count": 106,
   "id": "ce87743b",
   "metadata": {},
   "outputs": [
    {
     "data": {
      "text/plain": [
       "200"
      ]
     },
     "execution_count": 106,
     "metadata": {},
     "output_type": "execute_result"
    }
   ],
   "source": [
    "num_classes = data_labels['num_classes']\n",
    "num_classes"
   ]
  },
  {
   "cell_type": "code",
   "execution_count": null,
   "id": "e3999d04",
   "metadata": {},
   "outputs": [],
   "source": [
    "idx = 120\n",
    "lbl_tensor = data_labels['class_id_to_class_name'][data_labels['img_id_to_class_id'][data_labels['img_ids'][idx]]]"
   ]
  },
  {
   "cell_type": "code",
   "execution_count": 89,
   "id": "17a853c9",
   "metadata": {},
   "outputs": [
    {
     "name": "stdout",
     "output_type": "stream",
     "text": [
      "length of images :  8855\n",
      "length of image ids 8855\n",
      "image id : 4345\n",
      "class id : 9\n",
      "class name : Red_winged_Blackbird\n"
     ]
    },
    {
     "data": {
      "image/png": "[encoded data removed]",
      "text/plain": [
       "<Figure size 640x480 with 1 Axes>"
      ]
     },
     "metadata": {},
     "output_type": "display_data"
    }
   ],
   "source": [
    "idx = 120\n",
    "\n",
    "print('length of images : ',len(data_images))\n",
    "print('length of image ids',len(data_labels['train_val_img_ids']))\n",
    "\n",
    "image_id = data_labels['train_val_img_ids'][idx]\n",
    "print('image id :',image_id)\n",
    "\n",
    "class_id = data_labels['img_id_to_class_id'][image_id]\n",
    "print('class id :', class_id)\n",
    "\n",
    "class_name = data_labels['class_id_to_class_name'][class_id]\n",
    "print('class name :', class_name)\n",
    "\n",
    "img_tensor = data_images[idx]\n",
    "img = img_tensor.permute(1, 2, 0).numpy()\n",
    "plt.imshow(img)\n",
    "plt.title(f'{class_name} - {class_id}')\n",
    "plt.axis(\"off\")\n",
    "plt.show()"
   ]
  },
  {
   "cell_type": "code",
   "execution_count": null,
   "id": "b89ed1f7",
   "metadata": {},
   "outputs": [],
   "source": [
    "from torchvision.models import resnet50, ResNet50_Weights\n",
    "import torch.nn as nn\n",
    "\n",
    "resnet = resnet50(weights=ResNet50_Weights.IMAGENET1K_V2)\n",
    "for param in resnet.parameters():\n",
    "    param.requires_grad = False\n",
    "\n",
    "layers =  list(resnet.children())[:-2]\n",
    "model = nn.Sequential(*layers)\n",
    "\n",
    "device = torch.device('cuda' if torch.cuda.is_available() else 'cpu')\n",
    "model.to(device)"
   ]
  },
  {
   "cell_type": "code",
   "execution_count": 107,
   "id": "62e51976",
   "metadata": {},
   "outputs": [],
   "source": [
    "from torch import FloatTensor\n",
    "import torch.nn.functional as F\n",
    "\n",
    "def new_parameter(*size):\n",
    "    out = nn.Parameter(FloatTensor(*size), requires_grad=True)\n",
    "    torch.nn.init.xavier_normal_(out)\n",
    "    return out\n",
    "\n",
    "\n",
    "class Attention(nn.Module):\n",
    "\n",
    "    def __init__(self, attention_size):\n",
    "        super(Attention, self).__init__()\n",
    "        self.attention = new_parameter(attention_size, 1)\n",
    "\n",
    "    def forward(self, x_in):\n",
    "        # after this, we have (bs, feature_size, feature_size) with a diff weight per each cell\n",
    "        attention_score = torch.matmul(x_in, self.attention).squeeze()\n",
    "        attention_score = F.softmax(attention_score, dim=-1).view(x_in.size(0), x_in.size(1), 1)\n",
    "        scored_x = x_in * attention_score\n",
    "\n",
    "        # now, sum across dim 1 to get the expected feature vector\n",
    "        condensed_x = torch.sum(scored_x, dim=1)\n",
    "\n",
    "        return condensed_x"
   ]
  },
  {
   "cell_type": "code",
   "execution_count": null,
   "id": "54d90d9a",
   "metadata": {},
   "outputs": [],
   "source": [
    "fmsize = 8\n",
    "class Cnn_Resnet_Without_Attention(nn.Module):\n",
    "    def __init__(self, *args, **kwargs):\n",
    "        super().__init__(*args, **kwargs)\n",
    "        self.feature = model\n",
    "        self.dropout = nn.Dropout(.5)\n",
    "        self.linear = nn.Linear(512, num_classes)\n",
    "\n",
    "    def forward(self, x):\n",
    "        bs = x.size()[0]\n",
    "\n",
    "        x = self.feature(x)\n"
   ]
  },
  {
   "cell_type": "code",
   "execution_count": null,
   "id": "3238263a",
   "metadata": {},
   "outputs": [],
   "source": [
    "class Cnn_Resnet_With_Attention(nn.Module):\n",
    "    def __init__(self, *args, **kwargs):\n",
    "        super().__init__(*args, **kwargs)"
   ]
  }
 ],
 "metadata": {
  "kernelspec": {
   "display_name": ".venv",
   "language": "python",
   "name": "python3"
  },
  "language_info": {
   "codemirror_mode": {
    "name": "ipython",
    "version": 3
   },
   "file_extension": ".py",
   "mimetype": "text/x-python",
   "name": "python",
   "nbconvert_exporter": "python",
   "pygments_lexer": "ipython3",
   "version": "3.12.6"
  }
 },
 "nbformat": 4,
 "nbformat_minor": 5
}
