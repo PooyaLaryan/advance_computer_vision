{
 "cells": [
  {
   "cell_type": "markdown",
   "metadata": {},
   "source": [
    "$$\n",
    "L = \\frac{1}{N} \\sum_{i=1}^{N} \\left( y_i \\cdot w_s \\cdot D(x_i, x_j)^2 + (1 - y_i) \\cdot w_d \\cdot \\left( \\max(0, m - D(x_i, x_j)) \\right)^2 \\right)\n",
    "$$"
   ]
  },
  {
   "cell_type": "markdown",
   "metadata": {},
   "source": [
    "$$\n",
    "D(x, y) = \\sqrt{ \\sum_{k=1}^{d} (x_k - y_k)^2 }\n",
    "$$"
   ]
  },
  {
   "cell_type": "code",
   "execution_count": 1,
   "metadata": {},
   "outputs": [],
   "source": [
    "import torch\n",
    "import torchvision\n",
    "import torchvision.transforms as transforms\n",
    "\n",
    "import matplotlib.pyplot as plt\n",
    "import numpy as np"
   ]
  },
  {
   "cell_type": "code",
   "execution_count": 2,
   "metadata": {},
   "outputs": [],
   "source": [
    "def euclidean_distance(x, y):\n",
    "    return np.sqrt(np.sum((x - y) ** 2))\n",
    "\n",
    "\n",
    "def contrastive_loss(X1, X2, labels, margin=1.0):\n",
    "    N = len(X1)\n",
    "    loss = 0\n",
    "    for i in range(N):\n",
    "        dist = euclidean_distance(X1[i], X2[i])\n",
    "        \n",
    "        if labels[i] == 1: \n",
    "            loss += dist ** 2\n",
    "        else: \n",
    "            loss += max(0, margin - dist) ** 2\n",
    "    \n",
    "    return loss / (2 * N)"
   ]
  },
  {
   "cell_type": "code",
   "execution_count": 3,
   "metadata": {},
   "outputs": [
    {
     "data": {
      "text/plain": [
       "array([[0, 1, 4],\n",
       "       [7, 2, 1],\n",
       "       [2, 1, 4],\n",
       "       [1, 2, 0]])"
      ]
     },
     "execution_count": 3,
     "metadata": {},
     "output_type": "execute_result"
    }
   ],
   "source": [
    "X1 = np.array([0,1,4,7,2,1,2,1,4,1,2,0]).reshape((4,3))\n",
    "X1"
   ]
  },
  {
   "cell_type": "code",
   "execution_count": 4,
   "metadata": {},
   "outputs": [
    {
     "data": {
      "text/plain": [
       "array([[0, 2, 1],\n",
       "       [0, 2, 1],\n",
       "       [3, 0, 1],\n",
       "       [1, 2, 0]])"
      ]
     },
     "execution_count": 4,
     "metadata": {},
     "output_type": "execute_result"
    }
   ],
   "source": [
    "X2  = np.array([0,2,1,0,2,1,3,0,1,1,2,0]).reshape((4,3))\n",
    "X2 "
   ]
  },
  {
   "cell_type": "code",
   "execution_count": 5,
   "metadata": {},
   "outputs": [],
   "source": [
    "labels = np.array([1, 0, 0, 1])"
   ]
  },
  {
   "cell_type": "code",
   "execution_count": 6,
   "metadata": {},
   "outputs": [
    {
     "name": "stdout",
     "output_type": "stream",
     "text": [
      "Contrastive Loss: 1.2500000000000002\n"
     ]
    }
   ],
   "source": [
    "loss = contrastive_loss(X1, X2, labels, 0)\n",
    "print(\"Contrastive Loss:\", loss)"
   ]
  }
 ],
 "metadata": {
  "kernelspec": {
   "display_name": ".venv",
   "language": "python",
   "name": "python3"
  },
  "language_info": {
   "codemirror_mode": {
    "name": "ipython",
    "version": 3
   },
   "file_extension": ".py",
   "mimetype": "text/x-python",
   "name": "python",
   "nbconvert_exporter": "python",
   "pygments_lexer": "ipython3",
   "version": "3.12.6"
  }
 },
 "nbformat": 4,
 "nbformat_minor": 2
}
