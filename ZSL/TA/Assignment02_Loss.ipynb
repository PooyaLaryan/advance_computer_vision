{
  "cells": [
    {
      "cell_type": "markdown",
      "metadata": {
        "id": "8c2NgvW751Lq"
      },
      "source": [
        "<div class=\"alert alert-success\">  \n",
        "    <h1 align=\"center\" style=\"color:darkgoldenrod;\">Contrastive Loss\n",
        "</h1>  \n",
        "     \n",
        "</div>\n",
        "\n",
        "\n",
        "### 📌 What is Contrastive Loss?\n",
        "\n",
        "Contrastive Loss is used in tasks like **Siamese networks** to learn representations where:\n",
        "- **Similar pairs** (label = 1) are **pulled together** (i.e., their feature vectors are made closer).\n",
        "- **Dissimilar pairs** (label = 0) are **pushed apart**, but **only if they are too close** (closer than the margin).\n",
        "\n",
        "---\n",
        "\n",
        "### 🔸 **Contrastive Loss Formula Recap**:\n",
        "\n",
        "Given two feature vectors x_1 and x_2, label y , and margin m :\n",
        "\n",
        "$$\n",
        "\\text{Loss} = y \\cdot D^2 + (1 - y) \\cdot \\max(0, m - D)^2\n",
        "$$\n",
        "\n",
        "Where:\n",
        "- $$ D = \\|x_1 - x_2\\|_2 $$\n",
        "- y = 1: similar → we minimize D^2 (pull together)\n",
        "- y = 0: dissimilar → we maximize separation\n",
        "\n",
        "---\n",
        "\n",
        "### 🧠 How the Margin Works:\n",
        "\n",
        "For dissimilar pairs:\n",
        "- If D >m: No loss (they’re far enough)\n",
        "- If D <m: Penalize via (m - D)^2\n",
        "\n",
        "---\n",
        "\n",
        "### 🔍 Now, manually calculation:\n",
        "\n",
        "#### Pair 1: `[0, 1, 4]` vs `[0, 2, 1]`  \n",
        "Label = 0 (dissimilar), Margin = 0  \n",
        "Distance $$ D = \\sqrt{0^2 + (-1)^2 + 3^2} = \\sqrt{10} \\approx 3.16 $$  \n",
        "Loss = $$ \\max(0, 0 - 3.16)^2 = 0 $$\n",
        "\n",
        "---\n",
        "\n",
        "#### Pair 2: `[7, 2, 1]` vs `[0, 2, 1]`  \n",
        "Label = 0  \n",
        "Distance $$ D = \\sqrt{7^2 + 0^2 + 0^2} = \\sqrt{49} = 7 $$  \n",
        "Loss = 0\n",
        "\n",
        "---\n",
        "\n",
        "#### Pair 3: `[2, 1, 4]` vs `[3, 0, 1]`  \n",
        "Label = 0  \n",
        "Distance $$ D = \\sqrt{1^2 + 1^2 + 3^2} = \\sqrt{11} \\approx 3.32 $$  \n",
        "Loss = 0\n",
        "\n",
        "---\n",
        "\n",
        "#### Pair 4: `[1, 2, 0]` vs `[1, 2, 0]`  \n",
        "Label = 1 (similar)  \n",
        "Distance $$ D = \\sqrt{0^2 + 0^2 + 0^2} = 0 $$  \n",
        "Loss = $$ D^2 = 0 $$\n",
        "\n",
        "---\n",
        "\n",
        "### ✅ **All Losses:**\n",
        "\n",
        "| Pair | Label | Distance (D) | Loss |\n",
        "|------|--------|---------------|------|\n",
        "| 1    | 0      | √10 ≈ 3.16     | 0    |\n",
        "| 2    | 0      | √49 = 7        | 0    |\n",
        "| 3    | 0      | √11 ≈ 3.32     | 0    |\n",
        "| 4    | 1      | 0              | 0    |\n",
        "\n",
        "---\n",
        "\n",
        "### 🔹 Final Answer:\n",
        "- **Total Loss = 0**\n",
        "- **Average Loss = 0**\n",
        "\n"
      ]
    },
    {
      "cell_type": "code",
      "execution_count": null,
      "metadata": {
        "colab": {
          "base_uri": "https://localhost:8080/"
        },
        "id": "WVP97PWoqXmK",
        "outputId": "5516a916-e216-4ec5-a50b-80649fd81b56"
      },
      "outputs": [
        {
          "name": "stdout",
          "output_type": "stream",
          "text": [
            "Individual Losses: [0, 0, 0, np.float64(0.0)]\n",
            "Average Contrastive Loss: 0.0\n"
          ]
        }
      ],
      "source": [
        "import numpy as np\n",
        "\n",
        "# Feature maps\n",
        "feature_map_1 = np.array([[0, 1, 4],\n",
        "                          [7, 2, 1],\n",
        "                          [2, 1, 4],\n",
        "                          [1, 2, 0]])\n",
        "\n",
        "feature_map_2 = np.array([[0, 2, 1],\n",
        "                          [0, 2, 1],\n",
        "                          [3, 0, 1],\n",
        "                          [1, 2, 0]])\n",
        "\n",
        "# Labels: 0 for dissimilar, 1 for similar\n",
        "labels = np.array([0, 0, 0, 1])\n",
        "margin = 0\n",
        "\n",
        "losses = []\n",
        "for x1, x2, y in zip(feature_map_1, feature_map_2, labels):\n",
        "    distance = np.linalg.norm(x1 - x2)\n",
        "    if y == 1:  # Similar pair\n",
        "        loss = distance ** 2\n",
        "    else:  # Dissimilar pair\n",
        "        loss = max(0, margin - distance) ** 2\n",
        "    losses.append(loss)\n",
        "\n",
        "average_loss = np.mean(losses)\n",
        "\n",
        "print(\"Individual Losses:\", losses)\n",
        "print(\"Average Contrastive Loss:\", average_loss)\n"
      ]
    },
    {
      "cell_type": "markdown",
      "metadata": {
        "id": "P4YlCpz7_RG8"
      },
      "source": [
        "\n",
        "| Pair | Label | Distance | Loss | Interpretation |\n",
        "|------|-------|----------|------|----------------|\n",
        "| 1    | 0     | > 0      | 0    | Far enough apart → no penalty |\n",
        "| 2    | 0     | > 0      | 0    | Far enough apart → no penalty |\n",
        "| 3    | 0     | > 0      | 0    | Far enough apart → no penalty |\n",
        "| 4    | 1     | 0        | 0    | Identical → perfect match |\n",
        "\n",
        "\n",
        "\n",
        "- This data, with **margin = 0**, is already “ideal” for the contrastive loss:\n",
        "  - **Dissimilar pairs** are separated.\n",
        "  - **Similar pair** is perfectly matched.\n",
        "- The network would receive **no gradient signal** (no loss to reduce), so **no learning** would occur here.\n",
        "\n"
      ]
    },
    {
      "cell_type": "markdown",
      "metadata": {
        "id": "0j3ixIQptwOG"
      },
      "source": [
        "<div class=\"alert alert-success\">  \n",
        "    <h1 align=\"center\" style=\"color:darkgoldenrod;\">Cosine Similarity Loss\n",
        "</h1>  \n",
        "     \n",
        "</div>"
      ]
    },
    {
      "cell_type": "markdown",
      "metadata": {
        "id": "jnXk7Sd91D9t"
      },
      "source": [
        "### 📌 What is Cosine Similarity?  \n",
        "\n",
        "Cosine similarity measures the angle between two vectors (ignoring magnitude).  \n",
        "\n",
        "$$\n",
        "\\text{CosineSimilarity} = \\frac{\\vec{v}_1 \\cdot \\vec{v}_2}{\\|\\vec{v}_1\\| \\cdot \\|\\vec{v}_2\\|}\n",
        "$$  \n",
        "\n",
        "\n",
        "- Result is between **-1 (opposite)** and **1 (same direction)**.  \n",
        "- For loss, we typically define:  \n",
        "\n",
        "\n",
        "### 🔸 **Cosine Similarity Loss Formula**:  \n",
        "\n",
        "There are multiple variants of loss from cosine similarity. The most common is:  \n",
        "\n",
        "$$\n",
        "\\text{CosineLoss} = 1- \\text{CosineSimilarity}\n",
        "$$\n",
        "\n",
        "- **Loss = 0** if vectors are identical in direction (cosine similarity = 1)  \n",
        "- **Loss = 1** if vectors are orthogonal (cosine similarity = 0)  \n",
        "- **Loss = 2** if vectors point in opposite directions (cosine similarity = -1)  \n",
        "\n",
        "---\n",
        "\n",
        "### ✅ Step-by-step Manual Calculation  \n",
        "\n",
        "\n",
        "#### 🔹 1. Dot Product:  \n",
        "\n",
        "$$\n",
        "\\vec{v}_1 = [0, 1, 0, 9, 1], \\quad \\vec{v}_2 = [3, 0, 0, 9, 0]\n",
        "$$  \n",
        "\n",
        "$$\n",
        "\\vec{v}_1 \\cdot \\vec{v}_2 = (0 \\times 3) + (1 \\times 0) + (0 \\times 0) + (9 \\times 9) + (1 \\times 0) = 81\n",
        "$$  \n",
        "\n",
        "\n",
        "\n",
        "#### 🔹 2. Norms (Magnitudes):  \n",
        "\n",
        "$$\n",
        "\\|\\vec{v}_1\\| = \\sqrt{0^2 + 1^2 + 0^2 + 9^2 + 1^2} = \\sqrt{1 + 81 + 1} = \\sqrt{83} \\approx 9.11\n",
        "$$  \n",
        "\n",
        "$$\n",
        "\\|\\vec{v}_2\\| = \\sqrt{3^2 + 0^2 + 0^2 + 9^2 + 0^2} = \\sqrt{9 + 81} = \\sqrt{90} \\approx 9.49\n",
        "$$  \n",
        "\n",
        "\n",
        "\n",
        "#### 🔹 3. Cosine Similarity:  \n",
        "\n",
        "$$\n",
        "\\text{CosineSimilarity} = \\frac{81}{\\sqrt{83} \\cdot \\sqrt{90}} \\approx \\frac{81}{9.11 \\times 9.49} \\approx \\frac{81}{86.52} \\approx 0.9363\n",
        "$$  \n",
        "\n",
        "\n",
        "\n",
        "#### 🔹 4. Cosine Similarity Loss:  \n",
        "\n",
        "$$\n",
        "\\text{loss} = 1 - 0.9363 = \\boxed{0.0637}\n",
        "$$  \n",
        "\n",
        "\n",
        "\n",
        "### ✅ Final Answer (Manual):  \n",
        "\n",
        "- **Cosine Similarity** ≈ `0.9363`  \n",
        "- **Cosine Similarity Loss** ≈ `0.0637`  "
      ]
    },
    {
      "cell_type": "code",
      "execution_count": null,
      "metadata": {
        "colab": {
          "base_uri": "https://localhost:8080/"
        },
        "id": "CRW5XmKzt7Fm",
        "outputId": "b8501a2a-25e9-4efc-a077-21a12cc59630"
      },
      "outputs": [
        {
          "name": "stdout",
          "output_type": "stream",
          "text": [
            "Dot Product: 81\n",
            "||v1||: 9.1104\n",
            "||v2||: 9.4868\n",
            "Cosine Similarity: 0.9372\n",
            "Cosine Similarity Loss: 0.0628\n"
          ]
        }
      ],
      "source": [
        "import numpy as np\n",
        "\n",
        "# Vectors\n",
        "v1 = np.array([0, 1, 0, 9, 1])\n",
        "v2 = np.array([3, 0, 0, 9, 0])\n",
        "\n",
        "# Cosine similarity\n",
        "dot_product = np.dot(v1, v2)\n",
        "norm_v1 = np.linalg.norm(v1)\n",
        "norm_v2 = np.linalg.norm(v2)\n",
        "\n",
        "cosine_similarity = dot_product / (norm_v1 * norm_v2)\n",
        "cosine_loss = 1 - cosine_similarity\n",
        "\n",
        "# Output\n",
        "print(f\"Dot Product: {dot_product}\")\n",
        "print(f\"||v1||: {norm_v1:.4f}\")\n",
        "print(f\"||v2||: {norm_v2:.4f}\")\n",
        "print(f\"Cosine Similarity: {cosine_similarity:.4f}\")\n",
        "print(f\"Cosine Similarity Loss: {cosine_loss:.4f}\")\n"
      ]
    }
  ],
  "metadata": {
    "colab": {
      "provenance": []
    },
    "kernelspec": {
      "display_name": "tf",
      "language": "python",
      "name": "python3"
    },
    "language_info": {
      "name": "python",
      "version": "3.12.3"
    }
  },
  "nbformat": 4,
  "nbformat_minor": 0
}
