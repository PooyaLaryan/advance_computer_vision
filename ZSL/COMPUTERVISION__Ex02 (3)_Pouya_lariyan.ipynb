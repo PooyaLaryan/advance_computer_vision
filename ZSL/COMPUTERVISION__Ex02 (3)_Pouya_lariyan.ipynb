{
 "cells": [
  {
   "cell_type": "markdown",
   "metadata": {},
   "source": [
    "# Ziro Shot Learning"
   ]
  },
  {
   "cell_type": "code",
   "execution_count": 1,
   "metadata": {},
   "outputs": [],
   "source": [
    "import numpy as np"
   ]
  },
  {
   "cell_type": "code",
   "execution_count": 2,
   "metadata": {},
   "outputs": [
    {
     "name": "stdout",
     "output_type": "stream",
     "text": [
      "Cosine Similarity: 0.9371836815758414\n",
      "Cosine Similarity Loss: 0.06281631842415858\n"
     ]
    }
   ],
   "source": [
    "import numpy as np\n",
    "\n",
    "# Define the vectors\n",
    "a = np.array([0, 1, 0, 9, 1])\n",
    "b = np.array([3, 0, 0, 9, 0])\n",
    "\n",
    "# Compute the dot product of a and b\n",
    "dot_product = np.dot(a, b)\n",
    "\n",
    "# Compute the norm (magnitude) of each vector\n",
    "norm_a = np.linalg.norm(a)\n",
    "norm_b = np.linalg.norm(b)\n",
    "\n",
    "# Compute the cosine similarity\n",
    "cosine_similarity = dot_product / (norm_a * norm_b)\n",
    "\n",
    "# Compute the cosine similarity loss (1 - cosine similarity)\n",
    "cosine_similarity_loss = 1 - cosine_similarity\n",
    "\n",
    "# Output the result\n",
    "print(f\"Cosine Similarity: {cosine_similarity}\")\n",
    "print(f\"Cosine Similarity Loss: {cosine_similarity_loss}\")\n"
   ]
  }
 ],
 "metadata": {
  "kernelspec": {
   "display_name": ".venv",
   "language": "python",
   "name": "python3"
  },
  "language_info": {
   "codemirror_mode": {
    "name": "ipython",
    "version": 3
   },
   "file_extension": ".py",
   "mimetype": "text/x-python",
   "name": "python",
   "nbconvert_exporter": "python",
   "pygments_lexer": "ipython3",
   "version": "3.12.6"
  }
 },
 "nbformat": 4,
 "nbformat_minor": 2
}
