{
 "cells": [
  {
   "cell_type": "code",
   "execution_count": null,
   "metadata": {},
   "outputs": [],
   "source": [
    "def load_image(image_path):\n",
    "    image_path = os.path.join(BASE_IMAGE_ADDRESS, image_path)\n",
    "    image = tf.io.read_file(image_path)\n",
    "    image = tf.image.decode_png(image, channels= IMG_DEEP)\n",
    "    image = tf.image.resize(image, (IMG_SIZE, IMG_SIZE))\n",
    "    image = image / 255.0\n",
    "    return image"
   ]
  },
  {
   "cell_type": "code",
   "execution_count": null,
   "metadata": {},
   "outputs": [],
   "source": [
    "def get_last_unique_labels(labels, n=2):\n",
    "    unique_labels = []\n",
    "    for label in reversed(labels):\n",
    "        if label not in unique_labels:\n",
    "            unique_labels.append(label)\n",
    "        if len(unique_labels) == n:\n",
    "            break\n",
    "    return unique_labels"
   ]
  },
  {
   "cell_type": "code",
   "execution_count": null,
   "metadata": {},
   "outputs": [],
   "source": [
    "def split_labels_and_images(images, labels):\n",
    "    target_labels = get_last_unique_labels(labels)\n",
    "    group1_labels, group1_images = [], []  \n",
    "    group2_labels, group2_images = [], []  \n",
    "\n",
    "    for lbl, img in zip(labels, images):\n",
    "        if lbl in target_labels:\n",
    "            group2_labels.append(lbl)\n",
    "            group2_images.append(img)\n",
    "        else:\n",
    "            group1_labels.append(lbl)\n",
    "            group1_images.append(img)\n",
    "\n",
    "    return (group1_images, group1_labels), (group2_images, group2_labels)"
   ]
  },
  {
   "cell_type": "code",
   "execution_count": null,
   "metadata": {},
   "outputs": [],
   "source": [
    "def generate_random_negative_index(current_index, upper_limit, unseen_labels):\n",
    "    filter_list = set(unseen_labels)\n",
    "    filter_list.add(current_index)\n",
    "    \n",
    "    candidate_num = [i for i in range(1, upper_limit + 1) if i not in filter_list]\n",
    "    return np.random.choice(candidate_num)\n",
    "\n",
    "generate_random_negative_index(50, 100, [73,62])"
   ]
  },
  {
   "cell_type": "code",
   "execution_count": null,
   "metadata": {},
   "outputs": [],
   "source": [
    "from tqdm import tqdm\n",
    "\n",
    "def create_pairs(images, labels, unseen_labels):\n",
    "    pairs = []\n",
    "    pair_labels = []\n",
    "    unique_lables = np.unique(labels)\n",
    "\n",
    "    for idx, image_name in tqdm(enumerate(images), total=len(images)):\n",
    "        current_label = labels[idx]\n",
    "        num_classes = len(unique_lables)\n",
    "        \n",
    "        #Anchor\n",
    "        image_anchor = load_image(image_name)\n",
    "\n",
    "        # Positive pair\n",
    "        pos_idx = np.random.choice(np.where(labels == current_label)[0])\n",
    "        pos_image = load_image(images[pos_idx])\n",
    "        pairs.append([image_anchor, pos_image])\n",
    "        pair_labels.append(1)\n",
    "\n",
    "        # Negative pair\n",
    "        neg_label = generate_random_negative_index(current_label, num_classes, unseen_labels)\n",
    "        neg_idx = np.random.choice(np.where(labels == neg_label)[0]) \n",
    "        neg_image = load_image(images[neg_idx])\n",
    "        pairs.append([image_anchor, neg_image])\n",
    "        pair_labels.append(0)\n",
    "\n",
    "    return np.array(pairs), np.array(pair_labels)"
   ]
  },
  {
   "cell_type": "code",
   "execution_count": null,
   "metadata": {},
   "outputs": [],
   "source": [
    "from tqdm import tqdm\n",
    "import numpy as np\n",
    "def create_pairs_lazyLoad(images, labels, unseen_labels):\n",
    "    pairs = []\n",
    "    pair_labels = []\n",
    "    unique_lables = np.unique(labels)\n",
    "\n",
    "    for idx, image_name in tqdm(enumerate(images), total=len(images)):\n",
    "        current_label = labels[idx]\n",
    "        num_classes = len(unique_lables)\n",
    "        \n",
    "        #Anchor\n",
    "        image_anchor = image_name\n",
    "\n",
    "        # Positive pair\n",
    "        pos_idx = np.random.choice(np.where(labels == current_label)[0])\n",
    "        pos_image = images[pos_idx]\n",
    "        pairs.append([image_anchor, pos_image])\n",
    "        pair_labels.append(1)\n",
    "\n",
    "        # Negative pair\n",
    "        neg_label = generate_random_negative_index(current_label, num_classes, unseen_labels)\n",
    "        neg_idx = np.random.choice(np.where(labels == neg_label)[0]) \n",
    "        neg_image = images[neg_idx]\n",
    "        pairs.append([image_anchor, neg_image])\n",
    "        pair_labels.append(0)\n",
    "\n",
    "    return np.array(pairs), np.array(pair_labels)"
   ]
  },
  {
   "cell_type": "code",
   "execution_count": null,
   "metadata": {},
   "outputs": [],
   "source": [
    "images = os.listdir('102flowers')\n",
    "text_lables = pd.read_csv('Oxford-102_Flower_dataset_labels.csv')\n",
    "matlabels = loadmat('imagelabels.mat')\n",
    "labels = matlabels['labels'][0]\n",
    "\n",
    "seenList, unseendList = split_labels_and_images(images, labels)\n",
    "\n",
    "pairs, pair_labels = create_pairs_lazyLoad(seenList[0], seenList[1], np.unique(unseendList[1]))"
   ]
  },
  {
   "cell_type": "code",
   "execution_count": null,
   "metadata": {},
   "outputs": [],
   "source": [
    "print(len(pairs))\n",
    "print(len(pair_labels))\n",
    "print(pairs.shape)\n",
    "print(pair_labels.shape)"
   ]
  }
 ],
 "metadata": {
  "language_info": {
   "name": "python"
  }
 },
 "nbformat": 4,
 "nbformat_minor": 2
}
