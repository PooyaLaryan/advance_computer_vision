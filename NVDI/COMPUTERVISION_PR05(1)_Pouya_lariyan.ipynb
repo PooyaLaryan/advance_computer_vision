{
 "cells": [
  {
   "cell_type": "markdown",
   "id": "958b7587",
   "metadata": {},
   "source": [
    "<style>\n",
    "div.rtl-content {\n",
    "    font-family: \"Tahoma\", \"Vazirmatn\", \"IranSans\", sans-serif;\n",
    "    font-size: 16px;\n",
    "    line-height: 1.8;\n",
    "    direction: rtl;\n",
    "    text-align: right;\n",
    "}\n",
    "</style>"
   ]
  },
  {
   "cell_type": "markdown",
   "id": "bb65bca0",
   "metadata": {},
   "source": [
    "<style>\n",
    "div.rtl-content {\n",
    "    font-family: \"Tahoma\", \"Vazirmatn\", \"IranSans\", sans-serif;\n",
    "    font-size: 14px;\n",
    "    line-height: 1.8;\n",
    "    direction: rtl;\n",
    "    text-align: right;\n",
    "}\n",
    "</style>\n",
    "\n",
    "<div class=\"rtl-content\">\n",
    "\n",
    "# 🌍 بررسی باندهای ماهواره Sentinel-2\n",
    "\n",
    "در این بخش، توضیحاتی درباره هر باند داده‌های ماهواره Sentinel-2 ارائه می‌شود. این باندها برای تحلیل‌های مختلفی مانند پوشش گیاهی، منابع آب، وضعیت خاک و ... به کار می‌روند.\n",
    "\n",
    "</div>\n"
   ]
  },
  {
   "cell_type": "markdown",
   "id": "c98c77f9",
   "metadata": {},
   "source": [
    "<style>\n",
    "div.rtl-content {\n",
    "    font-family: \"Tahoma\", \"Vazirmatn\", \"IranSans\", sans-serif;\n",
    "    font-size: 14px;\n",
    "    line-height: 1.8;\n",
    "    direction: rtl;\n",
    "    text-align: right;\n",
    "}\n",
    "</style>\n",
    "\n",
    "<div class=rtl-content>\n",
    "\n",
    "## 📊 جدول باندهای Sentinel-2 و کاربرد آن‌ها\n",
    "\n",
    "| باند | نام | طول موج (نانومتر) | کاربرد اصلی |\n",
    "|------|-----|--------------------|--------------|\n",
    "| **B1** | Coastal aerosol | 443 | تصحیح اتمسفری، ذرات معلق در آب و هوا |\n",
    "| **B2** | Blue | 490 | بررسی ویژگی‌های آب کم‌عمق، تصحیح رنگ |\n",
    "| **B3** | Green | 560 | **تشخیص آب و پوشش گیاهی**، ورودی در NDWI و MNDWI |\n",
    "| **B4** | Red | 665 | **تشخیص پوشش گیاهی**، استفاده در NDVI |\n",
    "| **B5** | Red Edge 1 | 705 | ارزیابی سلامت گیاهان، سنجش کلروفیل |\n",
    "| **B6** | Red Edge 2 | 740 | تحلیل تنش زیستی گیاهان |\n",
    "| **B7** | Red Edge 3 | 783 | بررسی وضعیت زیستی پوشش گیاهی |\n",
    "| **B8** | NIR | 842 | **پوشش گیاهی و آب**، کاربرد در NDVI و NDWI |\n",
    "| **B8A** | Narrow NIR | 865 | پایش دقیق محصولات کشاورزی |\n",
    "| **B9** | Water vapor | 945 | شناسایی بخار آب در جو، تصحیح‌های جوی |\n",
    "| **B10** | SWIR – Cirrus | 1375 | حذف ابرهای نازک (Cirrus) از تصاویر |\n",
    "| **B11** | SWIR 1 | 1610 | **رطوبت خاک، مناطق خشک و شهری**، استفاده در MNDWI |\n",
    "| **B12** | SWIR 2 | 2190 | بررسی آتش‌سوزی‌ها، خشکی و رطوبت سطحی |\n",
    "\n",
    "</div>\n"
   ]
  },
  {
   "cell_type": "markdown",
   "id": "d5fe4bef",
   "metadata": {},
   "source": [
    "<style>\n",
    "div.rtl-content {\n",
    "    font-family: \"Tahoma\", \"Vazirmatn\", \"IranSans\", sans-serif;\n",
    "    font-size: 14px;\n",
    "    line-height: 1.8;\n",
    "    direction: rtl;\n",
    "    text-align: right;\n",
    "}\n",
    "</style>\n",
    "\n",
    "<div class=rtl-content>\n",
    "\n",
    "## 🧠 نکات کلیدی\n",
    "\n",
    "- **پوشش گیاهی:** استفاده از باندهای **Red (B4)** و **NIR (B8)** برای NDVI.\n",
    "\n",
    "- **تشخیص آب:** ترکیب **Green (B3)** با **NIR (B8)** یا **SWIR (B11/B12)** برای NDWI و MNDWI.\n",
    "\n",
    "- **مناطق شهری یا خشک:** باندهای **SWIR** بازتاب ویژه‌ای دارند و در تحلیل MNDWI نقش مهمی دارند.\n",
    "</div>"
   ]
  },
  {
   "cell_type": "markdown",
   "id": "c9948124",
   "metadata": {},
   "source": [
    "---"
   ]
  },
  {
   "cell_type": "markdown",
   "id": "cd2ffd09",
   "metadata": {},
   "source": [
    "<style>\n",
    "div.rtl-content {\n",
    "    font-family: \"Tahoma\", \"Vazirmatn\", \"IranSans\", sans-serif;\n",
    "    font-size: 14px;\n",
    "    line-height: 1.8;\n",
    "    direction: rtl;\n",
    "    text-align: right;\n",
    "}\n",
    "</style>\n",
    "\n",
    "<div class=rtl-content>\n",
    "\n",
    "### 🛰️ تحلیل شاخص‌های NDVI، NDWI و MNDWI با استفاده از Sentinel-2\n",
    "\n",
    "#### الف. فرمول NDWI و باندهای مربوطه\n",
    "\n",
    "شاخص NDWI (Normalized Difference Water Index) برای شناسایی آب‌های سطحی طراحی شده است. فرمول آن به شکل زیر است:\n",
    "\n",
    "$$\n",
    "NDWI = \\frac{Green - NIR}{Green + NIR}\n",
    "$$\n",
    "\n",
    "در داده‌های Sentinel-2:\n",
    "\n",
    "- **Green (سبز)** = باند **B3**\n",
    "- **NIR (مادون قرمز نزدیک)** = باند **B8**\n",
    "\n",
    "این شاخص مبتنی بر این واقعیت است که آب بازتاب بسیار کمی در باند NIR و بازتاب بیشتری در باند سبز دارد.\n",
    "\n",
    "</div>"
   ]
  },
  {
   "cell_type": "markdown",
   "id": "07e75efc",
   "metadata": {},
   "source": [
    "---"
   ]
  },
  {
   "cell_type": "markdown",
   "id": "36bfb941",
   "metadata": {},
   "source": [
    "<style>\n",
    "div.rtl-content {\n",
    "    font-family: \"Tahoma\", \"Vazirmatn\", \"IranSans\", sans-serif;\n",
    "    font-size: 14px;\n",
    "    line-height: 1.8;\n",
    "    direction: rtl;\n",
    "    text-align: right;\n",
    "}\n",
    "</style>\n",
    "\n",
    "<div class=rtl-content>\n",
    "\n",
    "#### ب. تفاوت بین NDWI و MNDWI\n",
    "\n",
    "شاخص MNDWI (Modified NDWI) نسخه‌ی بهبود یافته‌ای از NDWI است که به‌ویژه در مناطق شهری عملکرد بهتری دارد.\n",
    "\n",
    "فرمول MNDWI:\n",
    "\n",
    "$$\n",
    "MNDWI = \\frac{Green - SWIR}{Green + SWIR}\n",
    "$$\n",
    "\n",
    "در Sentinel-2:\n",
    "\n",
    "- **Green** = باند B3\n",
    "- **SWIR (مادون قرمز کوتاه)** = باند B11 یا B12\n",
    "\n",
    "🔹 تفاوت کلیدی:\n",
    "\n",
    "- NDWI برای نواحی طبیعی و پوشش‌های گیاهی مناسب‌تر است.\n",
    "- MNDWI در محیط‌های شهری یا خشک عملکرد دقیق‌تری دارد.\n",
    "\n",
    "</div>"
   ]
  },
  {
   "cell_type": "markdown",
   "id": "e3b2fb99",
   "metadata": {},
   "source": [
    "---"
   ]
  },
  {
   "cell_type": "markdown",
   "id": "41f05468",
   "metadata": {},
   "source": [
    "<style>\n",
    "div.rtl-content {\n",
    "    font-family: \"Tahoma\", \"Vazirmatn\", \"IranSans\", sans-serif;\n",
    "    font-size: 14px;\n",
    "    line-height: 1.8;\n",
    "    direction: rtl;\n",
    "    text-align: right;\n",
    "}\n",
    "</style>\n",
    "\n",
    "<div class=rtl-content>\n",
    "\n",
    "### ج. نقش باند NIR در تشخیص نواحی آبی\n",
    "\n",
    "در باند NIR، سطح گیاه و خاک بازتاب زیادی دارند، در حالی که **آب بازتاب بسیار کمی دارد** یا حتی کاملاً جذب می‌شود.\n",
    "\n",
    "به همین دلیل، مقدار پایین NIR می‌تواند نشان‌دهنده وجود آب باشد. این خاصیت باعث می‌شود شاخص‌هایی مانند NDWI و NDVI مؤثر باشند.\n",
    "\n",
    "---\n",
    "\n",
    "#### د. محاسبه شاخص‌ها با مقادیر پیکسل داده‌شده\n",
    "</div>"
   ]
  },
  {
   "cell_type": "code",
   "execution_count": 1,
   "id": "258b0692",
   "metadata": {},
   "outputs": [
    {
     "data": {
      "text/plain": [
       "(0.0, -0.8, -0.8461538461538461)"
      ]
     },
     "execution_count": 1,
     "metadata": {},
     "output_type": "execute_result"
    }
   ],
   "source": [
    "B3 = 1   # Green\n",
    "B4 = 9   # Red\n",
    "B8 = 9   # NIR\n",
    "B11 = 12 # SWIR\n",
    "\n",
    "NDVI = (B8 - B4) / (B8 + B4)\n",
    "NDWI = (B3 - B8) / (B3 + B8)\n",
    "MNDWI = (B3 - B11) / (B3 + B11)\n",
    "\n",
    "NDVI, NDWI, MNDWI"
   ]
  },
  {
   "cell_type": "markdown",
   "id": "dd813025",
   "metadata": {},
   "source": [
    "<div dir=\"rtl\">\n",
    "\n",
    "### نتایج:\n",
    "\n",
    "- **NDVI = 0** → بدون پوشش گیاهی\n",
    "- **NDWI = -0.8** → نبود آب سطحی\n",
    "- **MNDWI ≈ -0.846** → ناحیه خشک یا شهری\n",
    "\n",
    "### ✅ نتیجه‌گیری:\n",
    "\n",
    "این پیکسل مربوط به منطقه‌ای **خشک، فاقد پوشش گیاهی و منابع آبی سطحی** است.\n",
    "\n",
    "</div>"
   ]
  }
 ],
 "metadata": {
  "kernelspec": {
   "display_name": "Python 3",
   "language": "python",
   "name": "python3"
  },
  "language_info": {
   "codemirror_mode": {
    "name": "ipython",
    "version": 3
   },
   "file_extension": ".py",
   "mimetype": "text/x-python",
   "name": "python",
   "nbconvert_exporter": "python",
   "pygments_lexer": "ipython3",
   "version": "3.12.6"
  }
 },
 "nbformat": 4,
 "nbformat_minor": 5
}
