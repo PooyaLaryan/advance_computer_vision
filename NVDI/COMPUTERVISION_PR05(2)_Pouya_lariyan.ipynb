{
 "cells": [
  {
   "cell_type": "markdown",
   "id": "c246e713",
   "metadata": {},
   "source": [
    "##### pip install earthengine-api geemap\n",
    "##### pip install setuptools"
   ]
  },
  {
   "cell_type": "code",
   "execution_count": 1,
   "id": "5b753440",
   "metadata": {},
   "outputs": [
    {
     "name": "stderr",
     "output_type": "stream",
     "text": [
      "d:\\Pouya Git\\advance_computer_vision\\NVDI\\.venv\\Lib\\site-packages\\geemap\\conversion.py:23: UserWarning: pkg_resources is deprecated as an API. See https://setuptools.pypa.io/en/latest/pkg_resources.html. The pkg_resources package is slated for removal as early as 2025-11-30. Refrain from using this package or pin to Setuptools<81.\n",
      "  import pkg_resources\n"
     ]
    }
   ],
   "source": [
    "import ee\n",
    "import geemap\n",
    "import datetime"
   ]
  },
  {
   "cell_type": "code",
   "execution_count": null,
   "id": "35e377ab",
   "metadata": {},
   "outputs": [],
   "source": [
    "ee.Authenticate()"
   ]
  },
  {
   "cell_type": "code",
   "execution_count": null,
   "id": "325f3f2d",
   "metadata": {},
   "outputs": [
    {
     "data": {
      "text/html": [
       "\n",
       "            <style>\n",
       "                .geemap-dark {\n",
       "                    --jp-widgets-color: white;\n",
       "                    --jp-widgets-label-color: white;\n",
       "                    --jp-ui-font-color1: white;\n",
       "                    --jp-layout-color2: #454545;\n",
       "                    background-color: #383838;\n",
       "                }\n",
       "\n",
       "                .geemap-dark .jupyter-button {\n",
       "                    --jp-layout-color3: #383838;\n",
       "                }\n",
       "\n",
       "                .geemap-colab {\n",
       "                    background-color: var(--colab-primary-surface-color, white);\n",
       "                }\n",
       "\n",
       "                .geemap-colab .jupyter-button {\n",
       "                    --jp-layout-color3: var(--colab-primary-surface-color, white);\n",
       "                }\n",
       "            </style>\n",
       "            "
      ],
      "text/plain": [
       "<IPython.core.display.HTML object>"
      ]
     },
     "metadata": {},
     "output_type": "display_data"
    },
    {
     "name": "stdout",
     "output_type": "stream",
     "text": [
      "NDVI {'type': 'Image', 'bands': [{'id': 'NDVI', 'data_type': {'type': 'PixelType', 'precision': 'float', 'min': -1, 'max': 1}, 'dimensions': [3, 3], 'origin': [48, 36], 'crs': 'EPSG:4326', 'crs_transform': [1, 0, 0, 0, 1, 0]}], 'properties': {'system:footprint': {'type': 'Polygon', 'coordinates': [[[49.47, 37.562788659514815], [49.438292835442866, 37.5592028769008], [49.40911810760921, 37.54873194502907], [49.384803991265116, 37.53221200296216], [49.36728724167959, 37.510961523865845], [49.35795861462284, 37.486675272812235], [49.357553292617666, 37.461288395707875], [49.36609467721929, 37.43682177286631], [49.382895292284964, 37.41522113506815], [49.40661386285674, 37.398202752153004], [49.43536329801121, 37.38711779769351], [49.46686061185352, 37.382845880870065], [49.4986069454941, 37.38572588425232], [49.5280838898616, 37.395529349131934], [49.55295128085091, 37.41147841598188], [49.57123154663176, 37.43230696735139], [49.581466531714305, 37.456360345094645], [49.58283450314634, 37.481726034223016], [49.57521774196095, 37.50638523061312], [49.559214666796265, 37.52837343813069], [49.53609466677126, 37.54593734586042], [49.50769846275324, 37.557675343316504], [49.47629148026831, 37.56265019165873], [49.47, 37.562788659514815]]]}}}\n"
     ]
    },
    {
     "data": {
      "application/vnd.jupyter.widget-view+json": {
       "model_id": "93b60286f448406890468068f93938c3",
       "version_major": 2,
       "version_minor": 0
      },
      "text/plain": [
       "Map(center=[37.4728, 49.47], controls=(WidgetControl(options=['position', 'transparent_bg'], widget=SearchData…"
      ]
     },
     "execution_count": 2,
     "metadata": {},
     "output_type": "execute_result"
    }
   ],
   "source": [
    "# احراز هویت به Google Earth Engine (اولین بار اجرا نیاز به ورود از طریق مرورگر دارد)\n",
    "ee.Initialize(project='ee-project-461115')\n",
    "\n",
    "# تعریف منطقه انزلی (نقطه‌ای با شعاع حدود 10 کیلومتر)\n",
    "anzali_point = ee.Geometry.Point([49.4700, 37.4728])\n",
    "anzali_region = anzali_point.buffer(10000)  # شعاع به متر\n",
    "\n",
    "# بارگذاری تصاویر Sentinel-2 برای تابستان 2023 با ابر کمتر از 10٪\n",
    "start_date = '2023-06-01'\n",
    "end_date = '2023-09-01'\n",
    "\n",
    "collection = ee.ImageCollection('COPERNICUS/S2_SR') \\\n",
    "    .filterBounds(anzali_region) \\\n",
    "    .filterDate(start_date, end_date) \\\n",
    "    .filter(ee.Filter.lt('CLOUDY_PIXEL_PERCENTAGE', 10)) \\\n",
    "    .median() \\\n",
    "    .clip(anzali_region)\n",
    "\n",
    "# محاسبه NDVI: (NIR - RED) / (NIR + RED)\n",
    "ndvi = collection.normalizedDifference(['B8', 'B4']).rename('NDVI')\n",
    "print('NDVI' , ndvi.getInfo())\n",
    "\n",
    "# محاسبه NDWI: (GREEN - NIR) / (GREEN + NIR)\n",
    "ndwi = collection.normalizedDifference(['B3', 'B8']).rename('NDWI')\n",
    "\n",
    "# محاسبه MNDWI: (GREEN - SWIR1) / (GREEN + SWIR1)\n",
    "mndwi = collection.normalizedDifference(['B3', 'B11']).rename('MNDWI')\n",
    "\n",
    "# نمایش نقشه در مرورگر با استفاده از geemap\n",
    "Map = geemap.Map(center=[37.4728, 49.4700], zoom=11)\n",
    "\n",
    "Map.addLayer(ndvi, {'min': -1, 'max': 1, 'palette': ['white', 'green']}, 'NDVI')\n",
    "Map.addLayer(ndwi, {'min': -1, 'max': 1, 'palette': ['white', 'blue']}, 'NDWI')\n",
    "Map.addLayer(mndwi, {'min': -1, 'max': 1, 'palette': ['white', 'cyan']}, 'MNDWI')\n",
    "Map.addLayer(anzali_region, {}, 'Anzali Region')\n",
    "\n",
    "Map\n"
   ]
  }
 ],
 "metadata": {
  "kernelspec": {
   "display_name": ".venv",
   "language": "python",
   "name": "python3"
  },
  "language_info": {
   "codemirror_mode": {
    "name": "ipython",
    "version": 3
   },
   "file_extension": ".py",
   "mimetype": "text/x-python",
   "name": "python",
   "nbconvert_exporter": "python",
   "pygments_lexer": "ipython3",
   "version": "3.12.6"
  }
 },
 "nbformat": 4,
 "nbformat_minor": 5
}
